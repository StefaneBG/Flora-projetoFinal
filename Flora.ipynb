{
  "cells": [
    {
      "cell_type": "markdown",
      "metadata": {
        "id": "view-in-github",
        "colab_type": "text"
      },
      "source": [
        "<a href=\"https://colab.research.google.com/github/StefaneBG/Flora-projetoFinal/blob/main/Flora.ipynb\" target=\"_parent\"><img src=\"https://colab.research.google.com/assets/colab-badge.svg\" alt=\"Open In Colab\"/></a>"
      ]
    },
    {
      "cell_type": "markdown",
      "metadata": {
        "id": "ZvWGXE3eR8_5"
      },
      "source": [
        "# Importação das Bibliotecas"
      ]
    },
    {
      "cell_type": "code",
      "execution_count": null,
      "metadata": {
        "id": "D9fsBOOA58qI"
      },
      "outputs": [],
      "source": [
        "import pandas as pd\n",
        "import numpy as np\n",
        "import statistics as st\n",
        "import matplotlib.pyplot as plt\n",
        "import seaborn as sns"
      ]
    },
    {
      "cell_type": "code",
      "execution_count": null,
      "metadata": {
        "id": "nl-Ts_lbyS8U"
      },
      "outputs": [],
      "source": [
        "from google.colab import auth\n",
        "from google.cloud import storage\n",
        "from google.colab import files\n",
        "from google.cloud import bigquery\n",
        "import inspect"
      ]
    },
    {
      "cell_type": "markdown",
      "metadata": {
        "id": "6WkIbJ2h9w3t"
      },
      "source": [
        "#Funções"
      ]
    },
    {
      "cell_type": "markdown",
      "metadata": {
        "id": "d4PpXiUebfri"
      },
      "source": [
        "##Função Enviar para Bucket"
      ]
    },
    {
      "cell_type": "code",
      "execution_count": null,
      "metadata": {
        "id": "QX6rbomNbb5-"
      },
      "outputs": [],
      "source": [
        "def enviar_p_bucket(dataframe,destination_folder):\n",
        "\n",
        "    project_id = ''\n",
        "    bucket_name=''\n",
        "\n",
        "    try:\n",
        "        # Determinar o nome da variável associada ao DataFrame\n",
        "        caller_locals = inspect.currentframe().f_back.f_locals\n",
        "        dataframe_name = [name for name, obj in caller_locals.items() if obj is dataframe]\n",
        "        if dataframe_name:\n",
        "            dataframe_name = dataframe_name[0]\n",
        "        else:\n",
        "            dataframe_name = \"dataframe\"\n",
        "\n",
        "        # Nome do arquivo local\n",
        "        local_file_name = f\"{dataframe_name}-{destination_folder}.csv\"\n",
        "\n",
        "        # Caminho no bucket (diretório virtual)\n",
        "        destination_blob_name = f\"{destination_folder}/{local_file_name}\"\n",
        "\n",
        "        # Autenticar no Colab\n",
        "        auth.authenticate_user()\n",
        "\n",
        "        # Configurar o projeto no Google Cloud\n",
        "        !gcloud config set project {project_id}\n",
        "\n",
        "        # Salvar o DataFrame localmente como CSV\n",
        "        dataframe.to_csv(local_file_name, index=False)\n",
        "\n",
        "        # Inicializar o cliente do Google Cloud Storage\n",
        "        client = storage.Client()\n",
        "        bucket = client.bucket(bucket_name)\n",
        "\n",
        "        # Enviar arquivo ao bucket\n",
        "        blob = bucket.blob(destination_blob_name)\n",
        "        blob.upload_from_filename(local_file_name)\n",
        "\n",
        "        return f\"Arquivo '{local_file_name}' carregado com sucesso em '{destination_blob_name}' no bucket '{bucket_name}'.\"\n",
        "\n",
        "    except Exception as e:\n",
        "        return f\"Erro ao realizar o upload: {e}\""
      ]
    },
    {
      "cell_type": "markdown",
      "metadata": {
        "id": "JEovHro34J8F"
      },
      "source": [
        "##Função Enviar para BigQuery"
      ]
    },
    {
      "cell_type": "code",
      "execution_count": null,
      "metadata": {
        "id": "39hGaaSE40Cz"
      },
      "outputs": [],
      "source": [
        "def enviar_para_bigquery(dataframe, project_id='', dataset_id=''):\n",
        "\n",
        "    try:\n",
        "      # Determinar o nome da variável associada ao DataFrame\n",
        "        caller_locals = inspect.currentframe().f_back.f_locals\n",
        "        dataframe_name = [name for name, obj in caller_locals.items() if obj is dataframe]\n",
        "        if dataframe_name:\n",
        "            dataframe_name = dataframe_name[0]\n",
        "        else:\n",
        "            dataframe_name = \"dataframe\"\n",
        "        # Nome do arquivo local\n",
        "        table_name = f\"{dataframe_name}\"\n",
        "\n",
        "        # Autenticar no Google Cloud\n",
        "        auth.authenticate_user()\n",
        "\n",
        "        # Criar o cliente do BigQuery\n",
        "        client = bigquery.Client()\n",
        "\n",
        "        # Construir o ID completo da tabela\n",
        "        table_id = f\"{project_id}.{dataset_id}.{table_name}\"\n",
        "\n",
        "        # Enviar os dados para o BigQuery\n",
        "        dataframe.to_gbq(table_id, project_id=project_id, if_exists='replace')\n",
        "\n",
        "        return f\"Dados enviados com sucesso para {table_id}.\"\n",
        "\n",
        "    except Exception as e:\n",
        "        return f\"Erro ao enviar dados para o BigQuery: {e}\""
      ]
    },
    {
      "cell_type": "markdown",
      "metadata": {
        "id": "rLHZXPblSN6v"
      },
      "source": [
        "# Carregamento dos Dados"
      ]
    },
    {
      "cell_type": "code",
      "execution_count": null,
      "metadata": {
        "id": "Epcuohbk0Ffm"
      },
      "outputs": [],
      "source": [
        "notaVenda = pd.read_csv('',header=0)\n",
        "notaVenda.head()"
      ]
    },
    {
      "cell_type": "code",
      "execution_count": null,
      "metadata": {
        "id": "1qSXtkko1J33"
      },
      "outputs": [],
      "source": [
        "coordenador = pd.read_csv('',header=0)\n",
        "coordenador.head()"
      ]
    },
    {
      "cell_type": "code",
      "execution_count": null,
      "metadata": {
        "id": "cJCIlKQQ1L5D"
      },
      "outputs": [],
      "source": [
        "cliente = pd.read_csv('',header=0)\n",
        "cliente.head()"
      ]
    },
    {
      "cell_type": "code",
      "execution_count": null,
      "metadata": {
        "id": "AUWUZsOv1MVc"
      },
      "outputs": [],
      "source": [
        "divisaoComercial = pd.read_csv('',header=0)\n",
        "divisaoComercial.head()"
      ]
    },
    {
      "cell_type": "code",
      "execution_count": null,
      "metadata": {
        "id": "Rr8cNKJs1M3l"
      },
      "outputs": [],
      "source": [
        "produto = pd.read_csv('',header=0)\n",
        "produto.head()"
      ]
    },
    {
      "cell_type": "code",
      "execution_count": null,
      "metadata": {
        "id": "VUzB13bf3J1u"
      },
      "outputs": [],
      "source": [
        "empresa = pd.read_csv('',header=0)\n",
        "empresa.head()"
      ]
    },
    {
      "cell_type": "code",
      "execution_count": null,
      "metadata": {
        "id": "eMWmkDQ-3LbL"
      },
      "outputs": [],
      "source": [
        "mixIdeal = pd.read_csv('',header=0)\n",
        "mixIdeal.head()"
      ]
    },
    {
      "cell_type": "markdown",
      "metadata": {
        "id": "UQsm3BYfSSsK"
      },
      "source": [
        "## Informações dos Dados"
      ]
    },
    {
      "cell_type": "code",
      "execution_count": null,
      "metadata": {
        "id": "J-D-9ojC4dLu"
      },
      "outputs": [],
      "source": [
        "notaVenda.info()"
      ]
    },
    {
      "cell_type": "code",
      "execution_count": null,
      "metadata": {
        "id": "PkngFbfM43XQ"
      },
      "outputs": [],
      "source": [
        "coordenador.info()"
      ]
    },
    {
      "cell_type": "code",
      "execution_count": null,
      "metadata": {
        "id": "7Snk5AtF5Hmt"
      },
      "outputs": [],
      "source": [
        "cliente.info()"
      ]
    },
    {
      "cell_type": "code",
      "execution_count": null,
      "metadata": {
        "id": "fZQTqfn-5KoZ"
      },
      "outputs": [],
      "source": [
        "divisaoComercial.info()"
      ]
    },
    {
      "cell_type": "code",
      "execution_count": null,
      "metadata": {
        "id": "y7S69Y0V5Tef"
      },
      "outputs": [],
      "source": [
        "produto.info()"
      ]
    },
    {
      "cell_type": "code",
      "execution_count": null,
      "metadata": {
        "id": "qjA25OHw5XVO"
      },
      "outputs": [],
      "source": [
        "empresa.info()"
      ]
    },
    {
      "cell_type": "code",
      "execution_count": null,
      "metadata": {
        "id": "ngCT5VPb5d-R"
      },
      "outputs": [],
      "source": [
        "mixIdeal.info()"
      ]
    },
    {
      "cell_type": "markdown",
      "metadata": {
        "id": "btlE4SFk7luN"
      },
      "source": [
        "#Enviar dados não tratados para Bucket"
      ]
    },
    {
      "cell_type": "code",
      "execution_count": null,
      "metadata": {
        "id": "Pa16Bkn67skb"
      },
      "outputs": [],
      "source": [
        "list_df = [mixIdeal, empresa, produto, divisaoComercial, cliente, coordenador, notaVenda]\n",
        "for list in list_df:\n",
        "  enviar_p_bucket(list, \"dados-nao-tratados\")\n"
      ]
    },
    {
      "cell_type": "markdown",
      "metadata": {
        "id": "G4fNJXBCSXXB"
      },
      "source": [
        "# Tratamento dos Dados"
      ]
    },
    {
      "cell_type": "code",
      "execution_count": null,
      "metadata": {
        "id": "8_um3exqIkC_"
      },
      "outputs": [],
      "source": [
        "# Converter as datas para datetime\n",
        "notaVenda['Data Faturamento'] = pd.to_datetime(notaVenda['Data Faturamento'])\n",
        "meses_portugues = {\n",
        "    'jan': 'Jan', 'fev': 'Feb', 'mar': 'Mar', 'abr': 'Apr', 'mai': 'May', 'jun': 'Jun',\n",
        "    'jul': 'Jul', 'ago': 'Aug', 'set': 'Sep', 'out': 'Oct', 'nov': 'Nov', 'dez': 'Dec'\n",
        "    }\n",
        "notaVenda['Mês'] = notaVenda['Mês'].str[:3].map(meses_portugues) + notaVenda['Mês'].str[3:]\n",
        "notaVenda['Mês'] = pd.to_datetime(notaVenda['Mês'], format='%b %Y')\n",
        "notaVenda = notaVenda.drop(columns=['Ano'])\n",
        "\n",
        "# Converter colunas para string\n",
        "notaVenda['nCdEmpresa'] = notaVenda['nCdEmpresa'].astype(str)\n",
        "notaVenda['nCdProduto'] = notaVenda['nCdProduto'].astype(str)\n",
        "notaVenda['nCdDivisaoComercial'] = notaVenda['nCdDivisaoComercial'].astype(str)\n",
        "notaVenda['nCdTerceiroCoordenador'] = notaVenda['nCdTerceiroCoordenador'].astype(str)\n",
        "notaVenda['nCdTerceiroCentralizador'] = notaVenda['nCdTerceiroCentralizador'].astype(str)\n",
        "\n",
        "# Converter 'Fat Cxs' e 'Fat R$' para float\n",
        "notaVenda['Fat Cxs'] = notaVenda['Fat Cxs'].str.replace(',', '.').astype(float)\n",
        "notaVenda['Fat R$'] = notaVenda['Fat R$'].str.replace(',', '.').astype(float)\n",
        "notaVenda['Quantidade de Caixas'] = notaVenda['Fat R$'] / notaVenda['Fat Cxs']\n",
        "\n",
        "# Renomear colunas\n",
        "notaVenda.rename(columns={'Mês': 'Mes', 'Fat R$': 'FatValor'}, inplace=True)\n",
        "notaVenda.info()"
      ]
    },
    {
      "cell_type": "code",
      "execution_count": null,
      "metadata": {
        "id": "czVS_IYUL6KI"
      },
      "outputs": [],
      "source": [
        "cliente['nCdTerceiroCentralizador'] = cliente['nCdTerceiroCentralizador'].astype(str)\n",
        "cliente.info()"
      ]
    },
    {
      "cell_type": "code",
      "execution_count": null,
      "metadata": {
        "id": "UqXm0F5vMElB"
      },
      "outputs": [],
      "source": [
        "divisaoComercial['nCdDivisaoComercial'] = divisaoComercial['nCdDivisaoComercial'].astype(str)\n",
        "divisaoComercial['DivisaoComercial'] = divisaoComercial['DivisaoComercial'].astype(str)\n",
        "divisaoComercial.info()"
      ]
    },
    {
      "cell_type": "code",
      "execution_count": null,
      "metadata": {
        "id": "5p2pearWMNUm"
      },
      "outputs": [],
      "source": [
        "produto['nCdProduto'] = produto['nCdProduto'].astype(str)\n",
        "produto['Produto'] = produto['Produto'].astype(str)\n",
        "produto.info()"
      ]
    },
    {
      "cell_type": "code",
      "execution_count": null,
      "metadata": {
        "id": "5GBvPVs6MVkR"
      },
      "outputs": [],
      "source": [
        "empresa['nCdEmpresa'] = empresa['nCdEmpresa'].astype(str)\n",
        "empresa['Empresa'] = empresa['Empresa'].astype(str)\n",
        "empresa.info()"
      ]
    },
    {
      "cell_type": "code",
      "execution_count": null,
      "metadata": {
        "id": "jWqnLJGg8NVY"
      },
      "outputs": [],
      "source": [
        "mixIdeal['ncdProduto '] = mixIdeal['ncdProduto '].astype(str)\n",
        "mixIdeal.rename(columns={'ncdProduto ': 'nCdProduto', 'Produto ': 'Produto'}, inplace=True)\n",
        "mixIdeal.info()"
      ]
    },
    {
      "cell_type": "code",
      "execution_count": null,
      "metadata": {
        "id": "_cf3Q4loCx_d"
      },
      "outputs": [],
      "source": [
        "coordenador['nCdTerceiroCoordenador'].unique()"
      ]
    },
    {
      "cell_type": "code",
      "execution_count": null,
      "metadata": {
        "id": "dKhlc9ZcBvt5"
      },
      "outputs": [],
      "source": [
        "coordenador['nCdTerceiroCoordenador'] = coordenador['nCdTerceiroCoordenador'].replace(\"-\", \"Sem Coordenador Identificado\")\n",
        "coordenador['nCdTerceiroCoordenador'].unique()"
      ]
    },
    {
      "cell_type": "code",
      "execution_count": null,
      "metadata": {
        "id": "xeqNp9cjC0HO"
      },
      "outputs": [],
      "source": [
        "notaVenda['nCdTerceiroCoordenador'].unique()"
      ]
    },
    {
      "cell_type": "code",
      "execution_count": null,
      "metadata": {
        "id": "Db_8-qAXC0uw"
      },
      "outputs": [],
      "source": [
        "notaVenda['nCdTerceiroCoordenador'] = notaVenda['nCdTerceiroCoordenador'].replace(\"-\", \"Sem Coordenador Identificado\")\n",
        "notaVenda['nCdTerceiroCoordenador'].unique()"
      ]
    },
    {
      "cell_type": "markdown",
      "metadata": {
        "id": "e7VfsuDjFXf4"
      },
      "source": [
        "## Duplicadas"
      ]
    },
    {
      "cell_type": "code",
      "execution_count": null,
      "metadata": {
        "id": "V7LrCi0yFZkI"
      },
      "outputs": [],
      "source": [
        "def procurar_duplicadas(dataframe):\n",
        "  duplicadas = dataframe[dataframe.duplicated(keep=False)]\n",
        "  return duplicadas\n",
        "mixIdeal['nCdProduto'].value_counts()"
      ]
    },
    {
      "cell_type": "code",
      "execution_count": null,
      "metadata": {
        "id": "DRWMEdfIEIqA"
      },
      "outputs": [],
      "source": [
        "duplicated_rows = mixIdeal[mixIdeal['nCdProduto'].duplicated(keep=False)].sort_values(by=['nCdProduto'])\n",
        "display(duplicated_rows)"
      ]
    },
    {
      "cell_type": "markdown",
      "metadata": {
        "id": "R_UdhncWX4V9"
      },
      "source": [
        "##Excluindo linhas duplicadas"
      ]
    },
    {
      "cell_type": "code",
      "execution_count": null,
      "metadata": {
        "id": "g55SQcdCX3jl"
      },
      "outputs": [],
      "source": [
        "mixIdeal = mixIdeal.drop_duplicates(subset=['nCdProduto'])\n",
        "mixIdeal['nCdProduto'].value_counts()"
      ]
    },
    {
      "cell_type": "markdown",
      "metadata": {
        "id": "V6vrTchSAPVI"
      },
      "source": [
        "#Enviar dados tratados para Bucket"
      ]
    },
    {
      "cell_type": "code",
      "execution_count": null,
      "metadata": {
        "colab": {
          "background_save": true
        },
        "id": "NQVF8iquARB_"
      },
      "outputs": [],
      "source": [
        "list_df = [mixIdeal, empresa, produto, divisaoComercial, cliente, coordenador, notaVenda]\n",
        "for list in list_df:\n",
        "  enviar_p_bucket(list, \"dados-tratados\")"
      ]
    },
    {
      "cell_type": "markdown",
      "metadata": {
        "id": "tM8NPy71q6wS"
      },
      "source": [
        "#Perguntas e Respostas"
      ]
    },
    {
      "cell_type": "code",
      "execution_count": null,
      "metadata": {
        "id": "_eXdFF_ZVQ9j"
      },
      "outputs": [],
      "source": [
        "notaVenda['FatValor'] = notaVenda['FatValor'] / 1000000\n",
        "notaVenda['Fat Cxs'] = notaVenda['Fat Cxs'] / 1000000\n",
        "notaVenda['Quantidade de Caixas'] = notaVenda['Quantidade de Caixas'] / 1000000"
      ]
    },
    {
      "cell_type": "markdown",
      "metadata": {
        "id": "w6o_CwSZXBJt"
      },
      "source": [
        "##(INSERIDO)1.Clientes que compraram produtos do mixIdeal e suas quantidades por produto\n"
      ]
    },
    {
      "cell_type": "code",
      "execution_count": null,
      "metadata": {
        "id": "C9zzIm6_RWnm"
      },
      "outputs": [],
      "source": [
        "print(f\"Quantidade de produtos do mix ideal é: {len(mixIdeal)}\")\n",
        "# Clientes que compraram produtos do mixIdeal e suas quantidades por produto\n",
        "# Agrupar por 'nCdTerceiroCentralizador' e 'nCdProduto', contando as ocorrências e somando 'Quantidade de Caixas'\n",
        "clientes_qtds_mixIdeal = notaVenda.groupby(['nCdTerceiroCentralizador', 'nCdProduto']).agg(\n",
        "    qtds_produtos_comprados_mixIdeal=('nCdProduto', 'size'),\n",
        "    quantidade_caixas=('Quantidade de Caixas', 'sum')\n",
        ").reset_index().sort_values(by='qtds_produtos_comprados_mixIdeal', ascending=False)\n",
        "\n",
        "# Exibir o resultado\n",
        "display(clientes_qtds_mixIdeal)"
      ]
    },
    {
      "cell_type": "markdown",
      "metadata": {
        "id": "4CKfEeLZXG2z"
      },
      "source": [
        "##(INSERIDO)2.Quais clientes (terceiros centralizadores) estão comprando o mix ideal?"
      ]
    },
    {
      "cell_type": "code",
      "execution_count": null,
      "metadata": {
        "id": "m592UVWWRYgT"
      },
      "outputs": [],
      "source": [
        "# Passo 1: Obter a lista completa de clientes (terceiros centralizadores)\n",
        "clientes_totais = notaVenda['nCdTerceiroCentralizador'].unique()\n",
        "\n",
        "# Passo 2: Criar um DataFrame para os clientes que compraram do mixIdeal\n",
        "dfComMixIdeal = pd.merge(notaVenda, mixIdeal, on='nCdProduto', how='inner')\n",
        "\n",
        "# Criar o DataFrame 'mix' com os produtos únicos e combinação do mix\n",
        "mix = dfComMixIdeal[['nCdTerceiroCentralizador', 'nCdProduto']].groupby('nCdTerceiroCentralizador')['nCdProduto'].unique().reset_index(name='produtos_unicos')\n",
        "mix['cobertura_mix_clientes'] = (mix['produtos_unicos'].apply(len) / len(mixIdeal['nCdProduto'])) * 100\n",
        "mix['SKUs_Comprados_clientes'] = mix['produtos_unicos'].apply(len)\n",
        "\n",
        "# Total de produtos do mixIdeal comprados por cliente\n",
        "clientes_com_mix = dfComMixIdeal.groupby('nCdTerceiroCentralizador')['nCdProduto'].count().reset_index(name='total_compra_mix_cliente')\n",
        "\n",
        "# Unir os dados para incluir a cobertura do mix, os produtos únicos comprados e a quantidade\n",
        "status_cliente_mix = pd.merge(\n",
        "    clientes_com_mix,\n",
        "    mix[['nCdTerceiroCentralizador', 'cobertura_mix_clientes', 'produtos_unicos', 'SKUs_Comprados_clientes']],\n",
        "    on='nCdTerceiroCentralizador',\n",
        "    how='left'\n",
        ")\n",
        "\n",
        "# Passo 3: Adicionar os clientes que não compraram nenhum produto do mixIdeal\n",
        "clientes_sem_mix = pd.DataFrame({\n",
        "    'nCdTerceiroCentralizador': [cliente for cliente in clientes_totais if cliente not in status_cliente_mix['nCdTerceiroCentralizador'].values],\n",
        "    'total_compra_mix_cliente': 0,\n",
        "    'cobertura_mix_clientes': 0,\n",
        "    'produtos_unicos': [[]] * len([cliente for cliente in clientes_totais if cliente not in status_cliente_mix['nCdTerceiroCentralizador'].values]),\n",
        "    'SKUs_Comprados_clientes': 0  # Adicionar quantidade como 0\n",
        "})\n",
        "\n",
        "# Combinar clientes com e sem mix\n",
        "status_cliente_mix = pd.concat([status_cliente_mix, clientes_sem_mix], ignore_index=True)\n",
        "\n",
        "# Explodir os produtos únicos em linhas separadas\n",
        "clientes_comprando_mixIdeal = status_cliente_mix.explode('produtos_unicos')\n",
        "\n",
        "# Renomear a coluna 'produtos_unicos' para algo mais intuitivo\n",
        "clientes_comprando_mixIdeal.rename(columns={'produtos_unicos': 'nCdProduto_mix_clientes'}, inplace=True)\n",
        "\n",
        "# Substituir NaN na coluna 'nCdProduto_mix_clientes' por 0 (caso de clientes sem produtos no mixIdeal)\n",
        "clientes_comprando_mixIdeal['nCdProduto_mix_clientes'] = clientes_comprando_mixIdeal['nCdProduto_mix_clientes'].fillna(0).astype(int)\n",
        "\n",
        "# Ordenar pelo maior valor de 'cobertura_mix_clientes'\n",
        "clientes_comprando_mixIdeal = clientes_comprando_mixIdeal.sort_values(by=['cobertura_mix_clientes', 'nCdTerceiroCentralizador'], ascending=[False, True])\n",
        "clientes_comprando_mixIdeal['nCdProduto_mix_clientes'] = clientes_comprando_mixIdeal['nCdProduto_mix_clientes'].astype(str)\n",
        "\n",
        "# Exibir o DataFrame final\n",
        "display(clientes_comprando_mixIdeal)\n"
      ]
    },
    {
      "cell_type": "code",
      "execution_count": null,
      "metadata": {
        "id": "S4N9o6wvyaUr"
      },
      "outputs": [],
      "source": [
        "# Agrupar pelos clientes e pela cobertura do mix, somando a quantidade de compras no mix\n",
        "result = clientes_comprando_mixIdeal.groupby(['nCdTerceiroCentralizador', 'cobertura_mix_clientes'])['total_compra_mix_cliente'].sum().reset_index()\n",
        "\n",
        "# Ordenar pelo maior valor de 'cobertura_mix_clientes'\n",
        "result = result.sort_values(by='cobertura_mix_clientes', ascending=False)\n",
        "display(result)\n",
        "# Definir as faixas de porcentagem e os rótulos\n",
        "bins = [-0.01, 0, 20, 40, 60, 80, 100]  # Adicionando o -0.01 para capturar os valores exatamente 0\n",
        "labels = ['0%', '1%-20%', '21%-40%', '41%-60%', '61%-80%', '81%-100%']\n",
        "\n",
        "# Classificar os clientes em faixas de porcentagem\n",
        "result['percentage_range'] = pd.cut(result['cobertura_mix_clientes'], bins=bins, labels=labels, include_lowest=True)\n",
        "\n",
        "# Contar o número de clientes em cada faixa\n",
        "faixa_clientes_mix = result['percentage_range'].value_counts(sort=False).reset_index(name='num_clients')\n",
        "\n",
        "# Renomear as colunas para maior clareza\n",
        "faixa_clientes_mix.columns = ['Faixa de Porcentagem', 'Número de Clientes']\n",
        "\n",
        "# Exibir o resultado\n",
        "display(faixa_clientes_mix)"
      ]
    },
    {
      "cell_type": "markdown",
      "metadata": {
        "id": "E1ERoRzQXNHH"
      },
      "source": [
        "##(INSERIDO)3.Clientes que compraram produtos fora do mixIdeal (é possível pegar tbm os clientes que mais pegaram produtos fora do mixIdeal)\n"
      ]
    },
    {
      "cell_type": "code",
      "execution_count": null,
      "metadata": {
        "id": "1y0jehO8RcM2"
      },
      "outputs": [],
      "source": [
        "# Filtrar os produtos fora do mixIdeal\n",
        "dfForaMixIdeal = pd.merge(notaVenda, mixIdeal, on='nCdProduto', how='left', indicator=True)\n",
        "dfForaMixIdeal = dfForaMixIdeal[dfForaMixIdeal['_merge'] == 'left_only']\n",
        "dfForaMixIdeal.drop(columns=['_merge'], inplace=True)\n",
        "# Agrupar por cliente (nCdTerceiroCentralizador) e produto (nCdProduto)\n",
        "clientes_comprando_fora_mixIdeal = dfForaMixIdeal.groupby(['nCdTerceiroCentralizador', 'nCdProduto']).agg(\n",
        "    qtds_produtos_comprados_fora_mixIdeal=('nCdProduto', 'size'),  # Contar a ocorrência de cada produto\n",
        "    quantidade_caixas=('Quantidade de Caixas', 'sum')  # Somar a quantidade de caixas\n",
        ").reset_index()\n",
        "\n",
        "# Ordenar por 'counts' em ordem decrescente\n",
        "clientes_comprando_fora_mixIdeal = clientes_comprando_fora_mixIdeal.sort_values(by='qtds_produtos_comprados_fora_mixIdeal', ascending=False)\n",
        "\n",
        "# Exibir o DataFrame resultante\n",
        "display(clientes_comprando_fora_mixIdeal)"
      ]
    },
    {
      "cell_type": "markdown",
      "metadata": {
        "id": "aBnUkZmwXPaC"
      },
      "source": [
        "##(INSERIDO )4.Coordenadores que venderam mais produtos do mixIdeal\n"
      ]
    },
    {
      "cell_type": "code",
      "execution_count": null,
      "metadata": {
        "id": "3JFZ9VinRnuq"
      },
      "outputs": [],
      "source": [
        "# Filtrar apenas os produtos do mixIdeal e agrupar por coordenador\n",
        "dfComMixIdealCoordenador = pd.merge(notaVenda, mixIdeal, on='nCdProduto', how='inner')\n",
        "\n",
        "# Agrupar para obter produtos únicos e a combinação de mix\n",
        "mix = dfComMixIdealCoordenador[['nCdTerceiroCoordenador', 'nCdProduto']].groupby('nCdTerceiroCoordenador')['nCdProduto'].unique().reset_index(name='produtos_unicos')\n",
        "mix['cobertura_mix'] = (mix['produtos_unicos'].apply(len) / len(mixIdeal['nCdProduto'])) * 100\n",
        "mix['Mix Ideal únicos'] = mix['produtos_unicos'].apply(len)\n",
        "\n",
        "# Adicionar a combinação_mix ao DataFrame original\n",
        "dfComMixIdealCoordenador = pd.merge(dfComMixIdealCoordenador, mix[['nCdTerceiroCoordenador', 'cobertura_mix', 'Mix Ideal únicos']], on='nCdTerceiroCoordenador', how='left')\n",
        "\n",
        "# Agrupar e calcular counts e soma da Quantidade de Caixas\n",
        "coordenadores_vendendo_produtos_mix = dfComMixIdealCoordenador.groupby(['nCdTerceiroCoordenador', 'cobertura_mix', 'Mix Ideal únicos', 'nCdProduto']).agg(\n",
        "    qtd_vendas_por_produtos=('nCdProduto', 'size'),  # Contagem de vendas por produto\n",
        "    quantidade_caixas=('Quantidade de Caixas', 'sum')  # Soma da Quantidade de Caixas\n",
        ").reset_index()\n",
        "\n",
        "\n",
        "\n",
        "# Ordenar pelo cobertura_mix em ordem decrescente\n",
        "coordenadores_vendendo_produtos_mix = coordenadores_vendendo_produtos_mix.sort_values(by='cobertura_mix', ascending=False)\n",
        "\n",
        "# Exibir o DataFrame resultante\n",
        "display(coordenadores_vendendo_produtos_mix)\n"
      ]
    },
    {
      "cell_type": "code",
      "execution_count": null,
      "metadata": {
        "id": "UFbV3kXpCNPa"
      },
      "outputs": [],
      "source": [
        "# Obter a lista completa de coordenadores\n",
        "coordenadores_totais = notaVenda['nCdTerceiroCoordenador'].unique()\n",
        "\n",
        "# Identificar coordenadores que não venderam nenhum produto do mix ideal\n",
        "coordenadores_sem_mix = [\n",
        "    coord for coord in coordenadores_totais if coord not in dfComMixIdealCoordenador['nCdTerceiroCoordenador'].unique()\n",
        "]\n",
        "\n",
        "# Criar DataFrame para coordenadores sem vendas no mix ideal\n",
        "dfCoordenadoresSemMix = pd.DataFrame({\n",
        "    'nCdTerceiroCoordenador': coordenadores_sem_mix,\n",
        "    'cobertura_mix': 0,\n",
        "    'Mix Ideal únicos': 0,\n",
        "    'qtd_vendas_por_produtos': 0,\n",
        "    'quantidade_caixas': 0\n",
        "})\n",
        "\n",
        "# Concatenar os dois DataFrames: com e sem vendas no mix ideal\n",
        "coordenadores_mix_geral = pd.concat([coordenadores_vendendo_produtos_mix, dfCoordenadoresSemMix], ignore_index=True)\n",
        "\n",
        "# Ordenar pelo valor de cobertura_mix\n",
        "coordenadores_mix_geral = coordenadores_mix_geral.sort_values(by='cobertura_mix', ascending=False)\n",
        "\n",
        "# Exibir o resultado final\n",
        "coordenadores_mix_geral=coordenadores_mix_geral.groupby('nCdTerceiroCoordenador').first().reset_index().sort_values(by='cobertura_mix', ascending=False)"
      ]
    },
    {
      "cell_type": "code",
      "execution_count": null,
      "metadata": {
        "id": "LXYmt03g_Nul"
      },
      "outputs": [],
      "source": [
        "# Criar as faixas de porcentagem e os rótulos\n",
        "bins = [-0.01, 0, 20, 40, 60, 80, 100]  # Incluindo -0.01 para capturar valores exatamente 0\n",
        "labels = ['0%', '1%-20%', '21%-40%', '41%-60%', '61%-80%', '81%-100%']\n",
        "\n",
        "# Adicionar a coluna de faixa de porcentagem ao DataFrame de coordenadores\n",
        "coordenadores_mix_geral['Faixa de Cobertura'] = pd.cut(\n",
        "    coordenadores_mix_geral['cobertura_mix'],\n",
        "    bins=bins,\n",
        "    labels=labels,\n",
        "    include_lowest=True\n",
        ")\n",
        "\n",
        "# Selecionar apenas as colunas desejadas\n",
        "resultado_final = coordenadores_mix_geral[[\n",
        "    'nCdTerceiroCoordenador', 'cobertura_mix', 'qtd_vendas_por_produtos', 'Faixa de Cobertura'\n",
        "]]\n",
        "\n",
        "# Contar o número de coordenadores em cada faixa de cobertura\n",
        "faixa_coordenadores = resultado_final['Faixa de Cobertura'].value_counts(sort=False).reset_index(name='Numero_Coordenadores')\n",
        "\n",
        "# Renomear as colunas para maior clareza\n",
        "faixa_coordenadores.columns = ['Faixa_Porcentagem', 'Numero_Coordenadores']\n",
        "display(faixa_coordenadores)  # Contagem de coordenadores por faixa"
      ]
    },
    {
      "cell_type": "markdown",
      "metadata": {
        "id": "JphNyr6CXTyj"
      },
      "source": [
        "##5.REDUNDANTE Quais coordenadores que, na venda total, negociaram mais produtos do mix ideal?"
      ]
    },
    {
      "cell_type": "code",
      "execution_count": null,
      "metadata": {
        "id": "vue0mXJTik08"
      },
      "outputs": [],
      "source": [
        "# Filtrar vendas apenas com produtos no mix ideal\n",
        "vendas_mix_ideal = notaVenda[notaVenda['nCdProduto'].isin(mixIdeal['nCdProduto'])]\n",
        "\n",
        "# Contar produtos únicos vendidos por cada coordenador\n",
        "coordenadores_mix = vendas_mix_ideal.groupby('nCdTerceiroCoordenador')['nCdProduto'].unique().reset_index(name='produtos_unicos')\n",
        "\n",
        "# Calcular a porcentagem de produtos do mix ideal (cobertura_mix)\n",
        "coordenadores_mix['cobertura_mix'] = (coordenadores_mix['produtos_unicos'].apply(len) / len(mixIdeal['nCdProduto'])) * 100\n",
        "\n",
        "# Contar o total de vendas do mix ideal por coordenador e somar a Quantidade de Caixas\n",
        "vendas_coordenadores_mixIdeal = vendas_mix_ideal.groupby('nCdTerceiroCoordenador').agg(\n",
        "    total_vendas_mix=('nCdProduto', 'count'),  # Total de vendas no mix ideal\n",
        "    quantidade_caixas=('Quantidade de Caixas', 'sum')  # Soma da Quantidade de Caixas\n",
        ").reset_index()\n",
        "\n",
        "# Unificar as informações de coordenadores\n",
        "vendas_coordenadores_mixIdeal = pd.merge(\n",
        "    vendas_coordenadores_mixIdeal,\n",
        "    coordenadores_mix[['nCdTerceiroCoordenador', 'cobertura_mix']],\n",
        "    on='nCdTerceiroCoordenador',\n",
        "    how='left'\n",
        ")\n",
        "\n",
        "# Criar a nova coluna que multiplica total_vendas_mix por quantidade_caixas\n",
        "vendas_coordenadores_mixIdeal['multiplicacao_vendas_caixas'] = vendas_coordenadores_mixIdeal['total_vendas_mix'] * vendas_coordenadores_mixIdeal['quantidade_caixas']\n",
        "\n",
        "# Ordenar pelo maior valor de 'cobertura_mix'\n",
        "vendas_coordenadores_mixIdeal = vendas_coordenadores_mixIdeal.sort_values(by='cobertura_mix', ascending=False)\n",
        "\n",
        "# Reorganizar as colunas para exibição\n",
        "vendas_coordenadores_mixIdeal = vendas_coordenadores_mixIdeal[['nCdTerceiroCoordenador', 'cobertura_mix', 'total_vendas_mix', 'quantidade_caixas', 'multiplicacao_vendas_caixas']]\n",
        "\n",
        "# Exibir o resultado\n",
        "display(vendas_coordenadores_mixIdeal)"
      ]
    },
    {
      "cell_type": "code",
      "execution_count": null,
      "metadata": {
        "id": "VaZWXymc1RCF"
      },
      "outputs": [],
      "source": [
        "# Agrupar pelos clientes e pela cobertura do mix, somando a quantidade de compras no mix\n",
        "result = vendas_coordenadores_mixIdeal.groupby(['nCdTerceiroCoordenador', 'cobertura_mix'])['total_vendas_mix'].sum().reset_index()\n",
        "\n",
        "# Ordenar pelo maior valor de 'cobertura_mix_clientes'\n",
        "result = result.sort_values(by='cobertura_mix_clientes', ascending=False)\n",
        "display(result)\n",
        "# Definir as faixas de porcentagem e os rótulos\n",
        "bins = [-0.01, 0, 20, 40, 60, 80, 100]  # Adicionando o -0.01 para capturar os valores exatamente 0\n",
        "labels = ['0%', '1% - 20%', '21% - 40%', '41% - 60%', '61% - 80%', '81% - 100%']\n",
        "\n",
        "# Classificar os clientes em faixas de porcentagem\n",
        "result['percentage_range'] = pd.cut(result['cobertura_mix_clientes'], bins=bins, labels=labels, include_lowest=True)\n",
        "\n",
        "# Contar o número de clientes em cada faixa\n",
        "faixa_clientes_mix = result['percentage_range'].value_counts(sort=False).reset_index(name='num_clients')\n",
        "\n",
        "# Renomear as colunas para maior clareza\n",
        "faixa_clientes_mix.columns = ['Faixa de Porcentagem', 'Número de Clientes']\n",
        "\n",
        "# Exibir o resultado\n",
        "display(faixa_clientes_mix)"
      ]
    },
    {
      "cell_type": "markdown",
      "metadata": {
        "id": "l_c6UGJQXXRS"
      },
      "source": [
        "##(INSERIDO)6.Quais coordenadores estão atendendo o mix ideal nas vendas?\n"
      ]
    },
    {
      "cell_type": "code",
      "execution_count": null,
      "metadata": {
        "id": "SWk4UBY3XWwq"
      },
      "outputs": [],
      "source": [
        "# Calcular o total de SKUs ideais no mix ideal\n",
        "total_skus_ideais = mixIdeal['nCdProduto'].nunique()\n",
        "\n",
        "# Mesclar as vendas com mix ideal e coordenadores\n",
        "vendas_com_mix = notaVenda.merge(mixIdeal, on=\"nCdProduto\", how=\"inner\")  # Apenas produtos do mix ideal\n",
        "vendas_com_mix = vendas_com_mix.merge(coordenador, on=\"nCdTerceiroCoordenador\", how=\"left\")  # Adiciona coordenador\n",
        "\n",
        "# Agrupar por coordenador para contar quantos SKUs do mix ideal ele vendeu\n",
        "coordenadores_atendendo_mixIdeal = vendas_com_mix.groupby([\"nCdTerceiroCoordenador\", \"cNmTerceiroCoordenador\"]).agg(\n",
        "    SKUs_Vendidos_coordenadores=(\"nCdProduto\", \"nunique\"),\n",
        "    Faturamento_Total_coordenadores=(\"FatValor\", \"sum\")  # Soma do faturamento total\n",
        ").reset_index()\n",
        "\n",
        "coordenadores_atendendo_mixIdeal[\"cobertura_mix_coordenadores\"] = (coordenadores_atendendo_mixIdeal[\"SKUs_Vendidos_coordenadores\"] / total_skus_ideais) * 100\n",
        "\n",
        "\n",
        "coordenadores_atendendo_mixIdeal = coordenadores_atendendo_mixIdeal.sort_values(by=\"cobertura_mix_coordenadores\", ascending=False)\n",
        "display(coordenadores_atendendo_mixIdeal)"
      ]
    },
    {
      "cell_type": "markdown",
      "metadata": {
        "id": "0kIFdrXoXb5Z"
      },
      "source": [
        "##(INSERIDO)7.Calcular a razão (percentual de produtos vendidos no mixIdeal por total_vendas para cada coordenador)"
      ]
    },
    {
      "cell_type": "code",
      "execution_count": null,
      "metadata": {
        "id": "y5TcWzc_LLd2"
      },
      "outputs": [],
      "source": [
        "# Calcular o total de vendas por coordenador\n",
        "total_vendas = notaVenda.groupby('nCdTerceiroCoordenador').agg(\n",
        "    total_vendas=('nCdProduto', 'count'),\n",
        "    quantidade_caixas=('Quantidade de Caixas', 'sum')  # Soma da Quantidade de Caixas\n",
        ").reset_index()\n",
        "\n",
        "# Filtrar apenas os produtos que estão no mixIdeal\n",
        "vendas_produtos_no_mix = notaVenda[notaVenda['nCdProduto'].isin(mixIdeal['nCdProduto'])]\n",
        "\n",
        "# Obter o total de produtos vendidos no mixIdeal por coordenador\n",
        "vendas_produtos_no_mix_total = vendas_produtos_no_mix.groupby('nCdTerceiroCoordenador').agg(\n",
        "    vendas_produtos_no_mix=('nCdProduto', 'count'),\n",
        "    caixas_no_mix=('Quantidade de Caixas', 'sum')  # Soma da Quantidade de Caixas no mixIdeal\n",
        ").reset_index()\n",
        "\n",
        "# Mesclar os totais com os produtos no mixIdeal para calcular a razão\n",
        "coordenadores_razao_vendasMix_totalVendas = pd.merge(total_vendas, vendas_produtos_no_mix_total, on='nCdTerceiroCoordenador', how='left')\n",
        "\n",
        "# Substituir valores NaN em 'vendas_produtos_no_mix' e 'caixas_no_mix' (caso um coordenador não tenha produtos no mixIdeal)\n",
        "coordenadores_razao_vendasMix_totalVendas[['vendas_produtos_no_mix', 'caixas_no_mix']] = coordenadores_razao_vendasMix_totalVendas[['vendas_produtos_no_mix', 'caixas_no_mix']].fillna(0)\n",
        "\n",
        "# Calcular a razão (percentual de produtos vendidos no mixIdeal por coordenador)\n",
        "coordenadores_razao_vendasMix_totalVendas['razao_mix'] = (coordenadores_razao_vendasMix_totalVendas['vendas_produtos_no_mix'] / coordenadores_razao_vendasMix_totalVendas['total_vendas']) * 100\n",
        "\n",
        "# Exibir o resultado ordenado pela maior razão\n",
        "coordenadores_razao_vendasMix_totalVendas = coordenadores_razao_vendasMix_totalVendas.sort_values(by='razao_mix', ascending=False)\n",
        "\n",
        "# Reorganizar as colunas para exibição\n",
        "coordenadores_razao_vendasMix_totalVendas = coordenadores_razao_vendasMix_totalVendas[['nCdTerceiroCoordenador', 'razao_mix', 'total_vendas', 'vendas_produtos_no_mix', 'quantidade_caixas', 'caixas_no_mix']]\n",
        "\n",
        "display(coordenadores_razao_vendasMix_totalVendas)"
      ]
    },
    {
      "cell_type": "markdown",
      "metadata": {
        "id": "_seMQHD8Xgbb"
      },
      "source": [
        "##(INSERIDO)8.Produtos do mixIdeal que mais venderam para cliente"
      ]
    },
    {
      "cell_type": "code",
      "execution_count": null,
      "metadata": {
        "id": "sLlvzCvMSjsL"
      },
      "outputs": [],
      "source": [
        "# Produtos do mixIdeal que mais venderam para cliente\n",
        "# Filtrar apenas os produtos que estão no mixIdeal\n",
        "produtos_mix_ideal = notaVenda[notaVenda['nCdProduto'].isin(mixIdeal['nCdProduto'])]\n",
        "\n",
        "# Contar a quantidade de clientes únicos (nCdTerceiroCentralizador) que compraram cada produto\n",
        "produtosMix_comprados_clientes = produtos_mix_ideal.groupby('nCdProduto')['nCdTerceiroCentralizador'].nunique().reset_index(name='Quantidade de clientes')\n",
        "\n",
        "# Ordenar os produtos do mixIdeal pela quantidade de clientes únicos em ordem decrescente\n",
        "produtosMix_comprados_clientes = produtosMix_comprados_clientes.sort_values(by='Quantidade de clientes', ascending=False)\n",
        "\n",
        "# Exibir o resultado\n",
        "display(produtosMix_comprados_clientes)"
      ]
    },
    {
      "cell_type": "markdown",
      "metadata": {
        "id": "jSlCA2sPXjgt"
      },
      "source": [
        "##(INSERIDO)9.Produtos fora do mix Ideal que mais venderam para cliente\n",
        "\n"
      ]
    },
    {
      "cell_type": "code",
      "execution_count": null,
      "metadata": {
        "id": "Q8FVwQ_6S2A2"
      },
      "outputs": [],
      "source": [
        "#Produtos fora do mixIdeal que mais venderam para cliente\n",
        "# Filtrar apenas os produtos que não estão no mixIdeal\n",
        "produtos_fora_mix_ideal = notaVenda[~notaVenda['nCdProduto'].isin(mixIdeal['nCdProduto'])]\n",
        "\n",
        "# Contar a quantidade de clientes únicos (nCdTerceiroCentralizador) que compraram cada produto\n",
        "produtosForaDOMix_comprados_clientes = produtos_fora_mix_ideal.groupby('nCdProduto')['nCdTerceiroCentralizador'].nunique().reset_index(name='Quantidade de clientes')\n",
        "\n",
        "produtosForaDOMix_comprados_clientes = produtosForaDOMix_comprados_clientes.sort_values(by='Quantidade de clientes', ascending=False)\n",
        "# Ordenar os produtos do mixIdeal pela quantidade de clientes únicos em ordem decrescente\n",
        "display(produtosForaDOMix_comprados_clientes)"
      ]
    },
    {
      "cell_type": "markdown",
      "metadata": {
        "id": "c5fO2kke8x9R"
      },
      "source": [
        "##(INSERIDO)10.Localidade dos clientes que mais compraram agrupado por estado dentro do Mix Ideal"
      ]
    },
    {
      "cell_type": "code",
      "execution_count": null,
      "metadata": {
        "id": "UPckrL7po5xu"
      },
      "outputs": [],
      "source": [
        "#notaVenda e cliente\n",
        "notaVenda_com_uf = pd.merge(notaVenda, cliente[['nCdTerceiroCentralizador', 'UF']], on='nCdTerceiroCentralizador', how='left')\n",
        "#  coluna AtendeMix\n",
        "notaVenda_com_uf['AtendeMix'] = notaVenda_com_uf['nCdProduto'].isin(mixIdeal['nCdProduto'])\n",
        "\n",
        "#atende MixIdeal\n",
        "atende_mixIdeal = notaVenda_com_uf[notaVenda_com_uf['AtendeMix']]\n",
        "\n",
        "localidades_compram_mixIdeal = atende_mixIdeal.groupby('UF').agg(\n",
        "    Total_Fat_Cxs=('Fat Cxs', 'sum'),\n",
        "    Total_Fat_R=('FatValor', 'sum'),\n",
        "    Quantidade_Caixas=('Quantidade de Caixas', 'sum'),\n",
        "    Frequencia=('UF', 'count')\n",
        ").reset_index()\n",
        "# Ordenar resultados pelo maior faturamento\n",
        "localidades_compram_mixIdeal = localidades_compram_mixIdeal.sort_values(by='Total_Fat_R', ascending=False)\n",
        "\n",
        "# Exibir os resultados\n",
        "display(localidades_compram_mixIdeal)"
      ]
    },
    {
      "cell_type": "markdown",
      "metadata": {
        "id": "PhHOetaY84Zg"
      },
      "source": [
        "##(INSERIDO)11.Localidade dos clientes que mais compraram por estado fora do Mix Ideal"
      ]
    },
    {
      "cell_type": "code",
      "execution_count": null,
      "metadata": {
        "id": "a_EyZCz09mnB"
      },
      "outputs": [],
      "source": [
        "# n atende mix\n",
        "nao_atende_mixIdeal = notaVenda_com_uf[~notaVenda_com_uf['AtendeMix']]\n",
        "# Agrupar por UF e calcular os totais (Não Atende MixIdeal)\n",
        "localidades_compram_fora_mixIdeal = nao_atende_mixIdeal.groupby('UF').agg(\n",
        "    Total_Fat_Cxs=('Fat Cxs', 'sum'),\n",
        "    Total_Fat_R=('FatValor', 'sum'),\n",
        "    Quantidade_Caixas=('Quantidade de Caixas', 'sum'),\n",
        "    Frequencia=('UF', 'count')\n",
        ").reset_index()\n",
        "\n",
        "localidades_compram_fora_mixIdeal = localidades_compram_fora_mixIdeal.sort_values(by='Total_Fat_R', ascending=False)\n",
        "display(localidades_compram_fora_mixIdeal)"
      ]
    },
    {
      "cell_type": "markdown",
      "metadata": {
        "id": "dnHWjcL6bJVl"
      },
      "source": [
        "##(INSERIDO)12.Coordenadores que mais venderam do mixIdeal (por UF) (percentual por corbetura)"
      ]
    },
    {
      "cell_type": "code",
      "execution_count": null,
      "metadata": {
        "id": "zV5ithRWeEBX"
      },
      "outputs": [],
      "source": [
        "# Merge dos dados com o DataFrame 'cliente' para trazer a localidade (UF)\n",
        "notaVenda_com_localidade = pd.merge(\n",
        "    notaVenda,\n",
        "    cliente[['nCdTerceiroCentralizador', 'UF']],\n",
        "    on='nCdTerceiroCentralizador',\n",
        "    how='left'\n",
        ")\n",
        "\n",
        "# Identificar os produtos que pertencem ao MixIdeal\n",
        "notaVenda_com_localidade['AtendeMix'] = notaVenda_com_localidade['nCdProduto'].isin(mixIdeal['nCdProduto'])\n",
        "\n",
        "# Filtrar os produtos do MixIdeal\n",
        "atende_mixIdeal = notaVenda_com_localidade[notaVenda_com_localidade['AtendeMix']]\n",
        "\n",
        "\n",
        "coordenadores_vendendo_mixIdeal_por_UF = atende_mixIdeal.groupby(['nCdTerceiroCoordenador', 'UF']).agg(\n",
        "    Quantidade_Vendas=('UF', 'count'),   # Contar as vendas baseadas no estado (UF)\n",
        "    Faturamento_Total=('FatValor', 'sum')  # Soma do faturamento total\n",
        ").reset_index()\n",
        "coordenadores_vendendo_mixIdeal_por_UF = coordenadores_vendendo_mixIdeal_por_UF.rename(columns={'UF': 'UF_Cliente'})\n",
        "coordenadores_vendendo_mixIdeal_por_UF = coordenadores_vendendo_mixIdeal_por_UF.sort_values(\n",
        "    by=['nCdTerceiroCoordenador', 'Faturamento_Total'],\n",
        "    ascending=[True, False]\n",
        ")\n",
        "\n",
        "display(coordenadores_vendendo_mixIdeal_por_UF)"
      ]
    },
    {
      "cell_type": "markdown",
      "metadata": {
        "id": "kb35n5cBzCOw"
      },
      "source": [
        "##(INSERIDO)13.Coordenadores que mais venderam fora do mixIdeal por UF"
      ]
    },
    {
      "cell_type": "code",
      "execution_count": null,
      "metadata": {
        "id": "C22mKr500nLR"
      },
      "outputs": [],
      "source": [
        "#Merge dos dados com o DataFrame 'cliente' para trazer a localidade (UF)\n",
        "notaVenda_com_localidade = pd.merge(\n",
        "    notaVenda,\n",
        "    cliente[['nCdTerceiroCentralizador', 'UF']],\n",
        "    on='nCdTerceiroCentralizador',\n",
        "    how='left'\n",
        ")\n",
        "# coluna \"AtendeMix\" para identificar se o produto está no MixIdeal\n",
        "notaVenda_com_localidade['AtendeMix'] = notaVenda_com_localidade['nCdProduto'].isin(mixIdeal['nCdProduto'])\n",
        "\n",
        "#  filtrar os produtos que NÃO estão no MixIdeal\n",
        "nao_atende_mixIdeal = notaVenda_com_localidade[~notaVenda_com_localidade['AtendeMix']]\n",
        "coordenadores_vendendo_fora_mixIdeal_por_UF = nao_atende_mixIdeal.groupby(['nCdTerceiroCoordenador', 'UF']).agg(\n",
        "    Quantidade_Vendas=('UF', 'count'),   # Contar as vendas baseadas no estado (UF)\n",
        "    Faturamento_Total=('FatValor', 'sum')  # Soma do faturamento total\n",
        ").reset_index()\n",
        "\n",
        "coordenadores_vendendo_fora_mixIdeal_por_UF = coordenadores_vendendo_fora_mixIdeal_por_UF.sort_values(\n",
        "    by=['nCdTerceiroCoordenador', 'Faturamento_Total'],\n",
        "    ascending=[True, False]\n",
        ")\n",
        "\n",
        "display(coordenadores_vendendo_fora_mixIdeal_por_UF)"
      ]
    },
    {
      "cell_type": "markdown",
      "metadata": {
        "id": "rSIW4jVgojpj"
      },
      "source": [
        "##(INSERIDO)14.Análise do faturamento por produto, comparando as vendas de produtos que estão dentro do mix ideal com aqueles que estão fora do mix ideal"
      ]
    },
    {
      "cell_type": "markdown",
      "metadata": {
        "id": "5_txQZWzKfhv"
      },
      "source": []
    },
    {
      "cell_type": "code",
      "execution_count": null,
      "metadata": {
        "id": "Mn_6N7vQTIyQ"
      },
      "outputs": [],
      "source": [
        "group_fats_prod = notaVenda.groupby(\"nCdProduto\").agg(\n",
        "    Qtd_vendidos=(\"nCdProduto\", \"size\"),\n",
        "    Fat_Cxs=(\"Fat Cxs\", \"sum\"),\n",
        "    Fat_R=(\"FatValor\", \"sum\"),\n",
        "    Quantidade_Caixas=('Quantidade de Caixas', 'sum')\n",
        ").reset_index()\n",
        "\n",
        "faturamentos_por_produtos_mixIdeal = group_fats_prod[group_fats_prod[\"nCdProduto\"].isin(mixIdeal[\"nCdProduto\"])]\n",
        "display(len(faturamentos_por_produtos_mixIdeal))\n",
        "display(faturamentos_por_produtos_mixIdeal)\n",
        "\n",
        "faturamentos_por_produtos_fora_mixIdeal = group_fats_prod[~group_fats_prod[\"nCdProduto\"].isin(mixIdeal[\"nCdProduto\"])]\n",
        "display(len(faturamentos_por_produtos_fora_mixIdeal))\n",
        "display(faturamentos_por_produtos_fora_mixIdeal)\n",
        "\n",
        "calculate_totals = lambda df: {\n",
        "    \"Total Fat Cxs\": df[\"Fat_Cxs\"].sum(),\n",
        "    \"Total Fat R$\": df[\"Fat_R\"].sum(),\n",
        "}\n",
        "totals_naoatende = calculate_totals(faturamentos_por_produtos_fora_mixIdeal)\n",
        "totals_atende = calculate_totals(faturamentos_por_produtos_mixIdeal)\n",
        "\n",
        "for category, totals in [(\"Não atende MixIdeal\", totals_naoatende), (\"Atende MixIdeal\", totals_atende)]:\n",
        "    print(f\"Resultados para {category}:\")\n",
        "    for metric, total in totals.items():\n",
        "        print(f\"  {metric}: {total}\")"
      ]
    },
    {
      "cell_type": "markdown",
      "metadata": {
        "id": "_z52-TWRV4rE"
      },
      "source": [
        "##15(INSERIDO).Há alguma relação entre o desempenho de coordenadores e a cobertura do mix ideal de seus clientes?"
      ]
    },
    {
      "cell_type": "code",
      "execution_count": null,
      "metadata": {
        "id": "W9HOW0eUceP1"
      },
      "outputs": [],
      "source": [
        "# Passo 1: Total de vendas por coordenador e cliente\n",
        "total_vendas_coordenador_cliente = notaVenda.groupby(['nCdTerceiroCoordenador', 'nCdTerceiroCentralizador']).agg(\n",
        "    total_faturamento=('FatValor', 'sum'),  # Total de faturamento\n",
        "    total_vendas=('nCdProduto', 'count')  # Total de produtos vendidos\n",
        ").reset_index()\n",
        "\n",
        "# Passo 2: Filtrar os produtos do Mix Ideal\n",
        "vendas_mix_ideal = notaVenda[notaVenda['nCdProduto'].isin(mixIdeal['nCdProduto'])]\n",
        "\n",
        "# Passo 3: Calcular o total de produtos do Mix Ideal negociados por coordenador e cliente\n",
        "produtos_mix_totais = vendas_mix_ideal.groupby(['nCdTerceiroCoordenador', 'nCdTerceiroCentralizador'])['nCdProduto'] \\\n",
        "    .count() \\\n",
        "    .reset_index(name='total_vendas_mix')\n",
        "\n",
        "# Passo 4: Mesclar com o total de vendas para cada coordenador e cliente\n",
        "relacao_vendas_coordenador_cliente = pd.merge(\n",
        "    total_vendas_coordenador_cliente,\n",
        "    produtos_mix_totais,\n",
        "    on=['nCdTerceiroCoordenador', 'nCdTerceiroCentralizador'],\n",
        "    how='left'\n",
        ")\n",
        "\n",
        "# Preencher valores NaN em 'total_vendas_mix' para coordenadores/clientes sem produtos do Mix Ideal\n",
        "relacao_vendas_coordenador_cliente['total_vendas_mix'] = relacao_vendas_coordenador_cliente['total_vendas_mix'].fillna(0).astype(int)\n",
        "\n",
        "# Passo 5: Calcular a relação do mix (total de produtos do Mix Ideal / total de produtos vendidos)\n",
        "relacao_vendas_coordenador_cliente['relacao_mix'] = (\n",
        "    relacao_vendas_coordenador_cliente['total_vendas_mix'] /\n",
        "    relacao_vendas_coordenador_cliente['total_vendas']\n",
        ") * 100\n",
        "\n",
        "# Ordenar o resultado por coordenador e cliente\n",
        "relacao_vendas_coordenador_cliente = relacao_vendas_coordenador_cliente.sort_values(\n",
        "    by=['nCdTerceiroCoordenador', 'nCdTerceiroCentralizador']\n",
        ")\n",
        "\n",
        "relacao_vendas_coordenador_cliente = relacao_vendas_coordenador_cliente.sort_values(by='total_vendas', ascending=False)\n",
        "\n",
        "# Exibir o DataFrame final\n",
        "display(relacao_vendas_coordenador_cliente)"
      ]
    },
    {
      "cell_type": "markdown",
      "metadata": {
        "id": "z9vTD188WCT8"
      },
      "source": [
        "##16.Quais SKUs apresentam maiores lacunas de venda em relação ao mix ideal? (os que não compram nada do mix ideal, gráfico de barras - fazer uma correlação dos produtos que eles compram) - Que estratégias podem ser implementas para melhorar a cobertura em clientes específicos?"
      ]
    },
    {
      "cell_type": "code",
      "execution_count": null,
      "metadata": {
        "id": "P350VE5GWhnH"
      },
      "outputs": [],
      "source": [
        "# Utilizar QLik para responder"
      ]
    },
    {
      "cell_type": "markdown",
      "metadata": {
        "id": "gmS2jn7LcgxI"
      },
      "source": [
        "##(INSERIDO)17.Qual negócio está faturando mais?"
      ]
    },
    {
      "cell_type": "code",
      "execution_count": null,
      "metadata": {
        "id": "M5xlUgkmZrUd"
      },
      "outputs": [],
      "source": [
        "#  Negócio e somar o faturamento\n",
        "faturamento_por_negocio = notaVenda.groupby('Negócio')['FatValor'].sum().reset_index()\n",
        "faturamento_por_negocio = faturamento_por_negocio.sort_values(by='FatValor', ascending=False)\n",
        "\n",
        "faturamento_por_negocio = faturamento_por_negocio.rename(columns={'Negócio': 'Nome do Negócio', 'FatValor': 'Faturamento'})\n",
        "\n",
        "# Exibir o top 10 negócios que mais compraram\n",
        "display(faturamento_por_negocio)\n"
      ]
    },
    {
      "cell_type": "markdown",
      "metadata": {
        "id": "UCOXyznzcivn"
      },
      "source": [
        "##(INSERIDO)18.Empresas que estão comprando o mix ideal"
      ]
    },
    {
      "cell_type": "code",
      "execution_count": null,
      "metadata": {
        "id": "fo59jBOouMNL"
      },
      "outputs": [],
      "source": [
        "# Filtrar as linhas que representam compras do mix ideal com base no 'ncdProduto'\n",
        "\n",
        "# Merge 'notaVenda' and 'empresa' DataFrames to include company information.\n",
        "notaVenda_empresa = pd.merge(notaVenda, empresa, on='nCdEmpresa', how='left')\n",
        "\n",
        "# Filter sales data for products in the ideal mix using 'nCdProduto' from 'mixIdeal'.\n",
        "mix_ideal_produtos = mixIdeal['nCdProduto'].tolist()  # Get all 'nCdProduto' from 'mixIdeal'\n",
        "mix_ideal_vendas = notaVenda_empresa[notaVenda_empresa['nCdProduto'].isin(mix_ideal_produtos)]\n",
        "\n",
        "# Count sales by company for products in the ideal mix and get the top 5 companies.\n",
        "empresas_comprando_mixIdeal= mix_ideal_vendas['Empresa'].value_counts().sort_values(ascending=False).reset_index()\n",
        "\n",
        "display(empresas_comprando_mixIdeal)"
      ]
    },
    {
      "cell_type": "markdown",
      "metadata": {
        "id": "RWg9vEQ-cnKi"
      },
      "source": [
        "##19.Quantas vendas são feitas entre coordenadores e clientes dos produtos do mixIdeal"
      ]
    },
    {
      "cell_type": "code",
      "execution_count": null,
      "metadata": {
        "id": "f-lCC_iogkhR"
      },
      "outputs": [],
      "source": [
        "# Quantas vendas são feitas entre coordenadores e clientes dos produtos do mixIdeal\n",
        "notaVenda['AtendeMix'] = notaVenda['nCdProduto'].isin(mixIdeal['nCdProduto'])\n",
        "\n",
        "resultado_grouped = (\n",
        "    notaVenda\n",
        "    .groupby(['nCdTerceiroCentralizador', 'nCdTerceiroCoordenador', 'AtendeMix'])\n",
        "    .agg({\n",
        "        'Negócio': 'count',  # Contagem de negócios\n",
        "        'Fat Cxs': 'sum',\n",
        "        'FatValor': 'sum'\n",
        "    })\n",
        "\n",
        "    .rename(columns={'Negócio': 'Frequencia'})\n",
        "    .reset_index()\n",
        ")\n",
        "# Separar em dois DataFrames: AtendeMix e NaoAtendeMix\n",
        "vendas_coordenadores_clientes_mixIdeal = resultado_grouped[resultado_grouped['AtendeMix'] == True].drop(columns='AtendeMix')\n",
        "vendas_coordenadores_clientes_fora_mixIdeal = resultado_grouped[resultado_grouped['AtendeMix'] == False].drop(columns='AtendeMix')\n",
        "\n",
        "# Renomear colunas para clareza em ambos os DataFrames\n",
        "vendas_coordenadores_clientes_mixIdeal.rename(columns={\n",
        "    'Fat Cxs': 'FatCxs_AtendeMix',\n",
        "    'FatValor': 'FatValor_AtendeMix',\n",
        "    'Frequencia': 'Frequencia_AtendeMix'\n",
        "}, inplace=True)\n",
        "\n",
        "vendas_coordenadores_clientes_fora_mixIdeal.rename(columns={\n",
        "    'Fat Cxs': 'FatCxs_NaoAtendeMix',\n",
        "    'FatValor': 'FatValor_NaoAtendeMix',\n",
        "    'Frequencia': 'Frequencia_NaoAtendeMix'\n",
        "}, inplace=True)\n",
        "\n",
        "# Exibir DataFrames separados\n",
        "print(\"DataFrame AtendeMix:\")\n",
        "display(vendas_coordenadores_clientes_mixIdeal)\n",
        "\n",
        "print(\"\\nDataFrame NaoAtendeMix:\")\n",
        "display(vendas_coordenadores_clientes_fora_mixIdeal)"
      ]
    },
    {
      "cell_type": "markdown",
      "metadata": {
        "id": "g4zgjrBZcpLw"
      },
      "source": [
        "##(INSERIDO)20.Qual a marca que mais faturou no total\n"
      ]
    },
    {
      "cell_type": "code",
      "execution_count": null,
      "metadata": {
        "id": "AaLEiZT0cvV_"
      },
      "outputs": [],
      "source": [
        "# Adicionar a coluna de marca associando com o DataFrame de produtos\n",
        "vendas_com_marca = pd.merge(notaVenda, produto[['nCdProduto', 'Marca']], on='nCdProduto', how='inner')\n",
        "\n",
        "# Calcular o total de faturamento e a quantidade de vendas por marca\n",
        "vendas_por_marca = vendas_com_marca.groupby('Marca').agg(\n",
        "    faturamento_total=('FatValor', 'sum'),  # Soma do faturamento\n",
        "    quantidade_vendas=('nCdProduto', 'count')  # Contagem de vendas\n",
        ").reset_index()\n",
        "\n",
        "# Ordenar as marcas pelo faturamento total em ordem decrescente\n",
        "vendas_por_marca = vendas_por_marca.sort_values(by='faturamento_total', ascending=False)\n",
        "\n",
        "# Exibir o resultado\n",
        "display(vendas_por_marca)\n"
      ]
    },
    {
      "cell_type": "markdown",
      "metadata": {
        "id": "LR8iRePTcvg-"
      },
      "source": [
        "##(INSERIDO)21.Qual a marca que mais vendeu do mix ideal\n",
        "\n"
      ]
    },
    {
      "cell_type": "code",
      "execution_count": null,
      "metadata": {
        "id": "fTh2y-ridEXQ"
      },
      "outputs": [],
      "source": [
        "# Filtrar apenas os produtos do mixIdeal\n",
        "vendas_mix_ideal = notaVenda[notaVenda['nCdProduto'].isin(mixIdeal['nCdProduto'])]\n",
        "\n",
        "# Adicionar a coluna de marca associando com o DataFrame de produtos\n",
        "vendas_mix_ideal_com_marca = pd.merge(vendas_mix_ideal, produto[['nCdProduto', 'Marca']], on='nCdProduto', how='inner')\n",
        "\n",
        "# Calcular o total de vendas e faturamento por marca (apenas para produtos do mix ideal)\n",
        "vendas_por_marca_mix_ideal = vendas_mix_ideal_com_marca.groupby('Marca').agg(\n",
        "    total_vendas=('nCdProduto', 'count'),   # Contagem de vendas por marca\n",
        "    faturamento_total=('FatValor', 'sum')  # Soma do faturamento por marca\n",
        ").reset_index()\n",
        "\n",
        "# Ordenar as marcas pelo total de vendas em ordem decrescente\n",
        "vendas_por_marca_mix_ideal = vendas_por_marca_mix_ideal.sort_values(by='total_vendas', ascending=False)\n",
        "\n",
        "# Exibir o resultado\n",
        "display(vendas_por_marca_mix_ideal)\n"
      ]
    },
    {
      "cell_type": "markdown",
      "metadata": {
        "id": "qbBVSmGkcyeC"
      },
      "source": [
        "##(INSERIDO)22.Qual a marca que mais vendeu fora do mix ideal\n"
      ]
    },
    {
      "cell_type": "code",
      "execution_count": null,
      "metadata": {
        "id": "dFWAMb-odFVk"
      },
      "outputs": [],
      "source": [
        "# Filtrar apenas os produtos do mixIdeal\n",
        "vendas_mix_ideal = notaVenda[~notaVenda['nCdProduto'].isin(mixIdeal['nCdProduto'])]\n",
        "\n",
        "# Adicionar a coluna de marca associando com o DataFrame de produtos\n",
        "vendas_mix_ideal_com_marca = pd.merge(vendas_mix_ideal, produto[['nCdProduto', 'Marca']], on='nCdProduto', how='inner')\n",
        "\n",
        "# Calcular o total de vendas por marca (apenas para produtos do mix ideal)\n",
        "vendas_por_marca_fora_mixIdeal = vendas_mix_ideal_com_marca.groupby('Marca').agg(\n",
        "    total_vendas=('nCdProduto', 'count'),   # Contagem de vendas por marca\n",
        "    faturamento_total=('FatValor', 'sum')  # Soma do faturamento por marca\n",
        ").reset_index()\n",
        "\n",
        "# Ordenar as marcas pelo total de vendas em ordem decrescente\n",
        "vendas_por_marca_fora_mixIdeal = vendas_por_marca_fora_mixIdeal.sort_values(by='total_vendas', ascending=False)\n",
        "\n",
        "# Exibir todas as marcas do mix ideal ordenadas por vendas\n",
        "display(vendas_por_marca_fora_mixIdeal)"
      ]
    },
    {
      "cell_type": "markdown",
      "metadata": {
        "id": "lgAv5zf-dHRe"
      },
      "source": [
        "##(INSERIDO)23.Qual a categoria que mais faturou no mix ideal\n",
        "\n"
      ]
    },
    {
      "cell_type": "code",
      "execution_count": null,
      "metadata": {
        "id": "YT0VAp-JdOIa"
      },
      "outputs": [],
      "source": [
        "#filtra os produtos que estão no mix ideal\n",
        "produtos_no_mix_ideal = notaVenda[notaVenda['nCdProduto'].isin(mixIdeal['nCdProduto'])]\n",
        "\n",
        "# Adicionar a categoria associando com o mixIdeal\n",
        "produtos_com_categoria = pd.merge(produtos_no_mix_ideal, mixIdeal[['nCdProduto', 'Categoria']], on='nCdProduto', how='left')\n",
        "\n",
        "# Agrupar por categoria e calcular total de faturamento e quantidade de vendas\n",
        "produtos_com_categoria = produtos_com_categoria.groupby('Categoria').agg(\n",
        "    total_faturamento=('FatValor', 'sum'),   # Soma do faturamento por categoria\n",
        "    total_vendas=('nCdProduto', 'count')    # Contagem de vendas por categoria\n",
        ").reset_index()\n",
        "\n",
        "# Ordenar pela maior soma de faturamento\n",
        "categoria_mais_faturou_mixIdeal = produtos_com_categoria.sort_values(by='total_faturamento', ascending=False)\n",
        "\n",
        "# Exibir o resultado\n",
        "display(categoria_mais_faturou_mixIdeal)"
      ]
    },
    {
      "cell_type": "markdown",
      "metadata": {
        "id": "s8jr9D1vdIsJ"
      },
      "source": [
        "##(INSERIDO)24.Qual a categoria que mais faturou fora do mix ideal"
      ]
    },
    {
      "cell_type": "code",
      "execution_count": null,
      "metadata": {
        "id": "1pvXMDvfkeNy"
      },
      "outputs": [],
      "source": [
        "notaVenda_com_produto = pd.merge(\n",
        "    notaVenda,\n",
        "    produto[['nCdProduto', 'Categoria', 'Classificação', 'Tipo', 'Produto']],\n",
        "    on='nCdProduto',\n",
        "    how='left'\n",
        ")\n",
        "\n",
        "# Coluna \"AtendeMix\" para identificar se o produto está no MixIdeal\n",
        "notaVenda_com_produto['AtendeMix'] = notaVenda_com_produto['nCdProduto'].isin(mixIdeal['nCdProduto'])\n",
        "\n",
        "# Filtrar os produtos que NÃO estão no MixIdeal\n",
        "nao_atende_mixIdeal = notaVenda_com_produto[~notaVenda_com_produto['AtendeMix']]\n",
        "\n",
        "# Agrupar por categorias e calcular as métricas\n",
        "categoria_mais_faturou_fora_mixIdeal = nao_atende_mixIdeal.groupby('Categoria').agg(\n",
        "    Frequencia=('Categoria', 'count'),          # Contagem de frequência\n",
        "    Total_Fat_Cxs=('Fat Cxs', 'sum'),           # Soma do faturamento em caixas\n",
        "    Total_Fat_R=('FatValor', 'sum'),            # Soma do faturamento total\n",
        "    Total_Vendas=('nCdProduto', 'count')        # Total de vendas (número de produtos vendidos)\n",
        ").reset_index()\n",
        "\n",
        "# Calcular a razão de Total_Fat_Cxs por Total_Fat_R (Caixas por Faturamento)\n",
        "categoria_mais_faturou_fora_mixIdeal['Quantidade de caixas'] = categoria_mais_faturou_fora_mixIdeal['Total_Fat_Cxs'] / categoria_mais_faturou_fora_mixIdeal['Total_Fat_R']\n",
        "\n",
        "# Ordenar o DataFrame pelo maior faturamento\n",
        "categoria_mais_faturou_fora_mixIdeal = categoria_mais_faturou_fora_mixIdeal.sort_values(by='Total_Fat_R', ascending=False)\n",
        "\n",
        "# Exibir o DataFrame final\n",
        "display(categoria_mais_faturou_fora_mixIdeal)\n"
      ]
    },
    {
      "cell_type": "markdown",
      "metadata": {
        "id": "c4Jfn6tidRiv"
      },
      "source": [
        "#Solução de problemas"
      ]
    },
    {
      "cell_type": "code",
      "execution_count": null,
      "metadata": {
        "id": "lYaVvbDzaCiI"
      },
      "outputs": [],
      "source": [
        "''' Solução do problema: Qual mudança precisamos fazer pra melhorar os resutados?\n",
        "                         Qual a porcentagem que temos no modelo atual, e qual a porcentagem que precisamos melhorar?\n",
        "                         Precisamos concentrar as vendas em qual coordenador?\n",
        "                         Precisamos focar em qual cliente?\n",
        "                         precisamos focar em qual produto?\n",
        "                         precisamos focar em qual divisão comercial?\n",
        "                         precisamos focar em qual estado?\n",
        "                         precisamos focar em qual mês?\n",
        "'''"
      ]
    },
    {
      "cell_type": "markdown",
      "metadata": {
        "id": "oOwSfp1IVNXe"
      },
      "source": [
        "#Enviar DFs para a BigQuery"
      ]
    },
    {
      "cell_type": "code",
      "execution_count": null,
      "metadata": {
        "id": "EtxlBpHVCqMm"
      },
      "outputs": [],
      "source": [
        "for dataframe in \\\n",
        " [mixIdeal,\n",
        "  empresa,\n",
        "  produto,\n",
        "  divisaoComercial,\n",
        "  cliente,\n",
        "  coordenador,\n",
        "  notaVenda,\n",
        "  produtos_mix_ideal,\n",
        "  produtos_fora_mix_ideal,\n",
        "  clientes_comprando_fora_mixIdeal,\n",
        "  produtosForaDOMix_comprados_clientes,\n",
        "  clientes_comprando_mixIdeal,\n",
        "  coordenadores_atendendo_mixIdeal,\n",
        "  clientes_qtds_mixIdeal,\n",
        "  coordenadores_vendendo_produtos_mix,\n",
        "  coordenadores_razao_vendasMix_totalVendas,\n",
        "  produtosMix_comprados_clientes,\n",
        "  localidades_compram_mixIdeal,\n",
        "  faturamentos_por_produtos_mixIdeal,\n",
        "  faturamentos_por_produtos_fora_mixIdeal,\n",
        "  relacao_vendas_coordenador_cliente,\n",
        "  faturamento_por_negocio,\n",
        "  empresas_comprando_mixIdeal,\n",
        "  vendas_por_marca,\n",
        "  vendas_por_marca_mix_ideal,\n",
        "  vendas_por_marca_fora_mixIdeal,\n",
        "  categoria_mais_faturou_mixIdeal,\n",
        "  categoria_mais_faturou_fora_mixIdeal,\n",
        "  localidades_compram_fora_mixIdeal,\n",
        "  coordenadores_vendendo_mixIdeal_por_UF,\n",
        "  coordenadores_vendendo_fora_mixIdeal_por_UF,\n",
        "  faixa_clientes_mix,\n",
        "  faixa_coordenadores]:\n",
        "  enviar_para_bigquery(faixa_coordenadores)"
      ]
    },
    {
      "cell_type": "code",
      "execution_count": null,
      "metadata": {
        "id": "uU6zIhgpxxDL"
      },
      "outputs": [],
      "source": [
        "# Calcular o total de SKUs ideais no mix ideal\n",
        "total_skus_ideais = mixIdeal['nCdProduto'].nunique()\n",
        "\n",
        "# Mesclar as vendas com mix ideal e coordenadores\n",
        "vendas_com_mix = notaVenda.merge(mixIdeal, on=\"nCdProduto\", how=\"inner\")  # Apenas produtos do mix ideal\n",
        "vendas_com_mix = vendas_com_mix.merge(coordenador, on=\"nCdTerceiroCoordenador\", how=\"left\")  # Adiciona coordenador\n",
        "\n",
        "# Agrupar por coordenador para contar quantos SKUs do mix ideal ele vendeu\n",
        "coordenadores_atendendo_mixIdeal = vendas_com_mix.groupby([\"nCdTerceiroCoordenador\", \"cNmTerceiroCoordenador\"]).agg(\n",
        "    SKUs_Vendidos_coordenadores=(\"nCdProduto\", \"nunique\"),\n",
        "    Faturamento_Total_coordenadores=(\"FatValor\", \"sum\")  # Soma do faturamento total\n",
        ").reset_index()\n",
        "\n",
        "coordenadores_atendendo_mixIdeal[\"cobertura_mix_coordenadores\"] = (coordenadores_atendendo_mixIdeal[\"SKUs_Vendidos_coordenadores\"] / total_skus_ideais) * 100\n",
        "\n",
        "\n",
        "coordenadores_atendendo_mixIdeal = coordenadores_atendendo_mixIdeal.sort_values(by=\"cobertura_mix_coordenadores\", ascending=False)\n",
        "display(coordenadores_atendendo_mixIdeal)"
      ]
    },
    {
      "cell_type": "markdown",
      "metadata": {
        "id": "2C4gUADiFtuy"
      },
      "source": [
        "# Análises Descritivas e Medidas"
      ]
    },
    {
      "cell_type": "code",
      "execution_count": null,
      "metadata": {
        "id": "k0AApfWeFzq8"
      },
      "outputs": [],
      "source": [
        "# seleciona apenas as colunas quantitativas para realizar a correlação entre elas\n",
        "correlacao = notaVenda[['FatValor','Fat Cxs', 'Quantidade de Caixas']].corr()\n",
        "figura = plt.figure(figsize=(4, 4))\n",
        "plt.title('Correlação entre o Valor do Faturamento (R$), Faturamento das Caixas e Quantidade de Caixas')\n",
        "sns.heatmap(correlacao, annot=True, cmap='PuOr', vmin=-1, vmax=1);"
      ]
    },
    {
      "cell_type": "code",
      "execution_count": null,
      "metadata": {
        "id": "btHkWPOmkk9a"
      },
      "outputs": [],
      "source": [
        "colunas_analisadas = ['FatValor','Fat Cxs', 'Quantidade de Caixas']\n",
        "for coluna in colunas_analisadas:\n",
        "        media = np.mean(notaVenda[coluna])\n",
        "        mediana = np.median(notaVenda[coluna])\n",
        "        moda = st.mode(notaVenda[coluna])\n",
        "        variancia = st.variance(notaVenda[coluna])\n",
        "        desviopadrao = st.stdev(notaVenda[coluna])\n",
        "        valorminimo = np.min(notaVenda[coluna])\n",
        "        quartis = st.quantiles(notaVenda[coluna], n=4)\n",
        "        umquartil = quartis[0]\n",
        "        doisquartil = quartis[1]\n",
        "        tresquartil = quartis[2]\n",
        "        valormaximo = np.max(notaVenda[coluna])\n",
        "        amplitude = tresquartil - umquartil\n",
        "        liminferior = max(umquartil - (1.5 * amplitude), valorminimo)\n",
        "        limsuperior = max(tresquartil + (1.5 * amplitude), valormaximo)\n",
        "\n",
        "        estatisticas = {\n",
        "            'Métrica': [\n",
        "                'Média', 'Mediana', 'Moda', 'Variância', 'Desvio Padrão',\n",
        "                'Valor Mínimo', '1º Quartil', '2º Quartil (Mediana)', '3º Quartil',\n",
        "                'Valor Máximo', 'Amplitude', 'Limite Inferior', 'Limite Superior'\n",
        "            ],\n",
        "            'Valor': [\n",
        "                media, mediana, moda, variancia, desviopadrao,\n",
        "                valorminimo, umquartil, doisquartil, tresquartil,\n",
        "                valormaximo, amplitude, liminferior, limsuperior\n",
        "            ]\n",
        "        }\n",
        "\n",
        "        # Criando um DataFrame com as estatísticas\n",
        "        df_estatisticas = pd.DataFrame(estatisticas)\n",
        "\n",
        "        # Exibindo os resultados\n",
        "        print(f\"Resultados para '{coluna}':\")\n",
        "        display(df_estatisticas)\n",
        "        print('-----------------------------------------------')"
      ]
    },
    {
      "cell_type": "code",
      "execution_count": null,
      "metadata": {
        "id": "5SBC-XpoKmdU"
      },
      "outputs": [],
      "source": [
        "#produtos vendidos estão no mix Ideal\n",
        "df_completo = pd.merge(notaVenda, mixIdeal, on='nCdProduto', how='inner')\n",
        "print(\"\\nProdutos Vendidos no Mix Ideal:\")\n",
        "display(df_completo)\n",
        "\n",
        "#contando a quantidade de cada produto vendido que está no mix ideal\n",
        "contagem_completo = df_completo.groupby('nCdProduto').size().reset_index(name='Quantidade Vendida')\n",
        "print(\"\\nContagem dos Produtos Vendidos no Mix Ideal:\")\n",
        "display(contagem_completo)\n",
        "\n",
        "#produtos vendidos NÃO estão no mix ideal\n",
        "naoestaonomix = pd.merge(notaVenda, mixIdeal, on='nCdProduto', how='left')\n",
        "produtos_nao_no_mix = naoestaonomix[naoestaonomix['Marca'].isna()]\n",
        "print(\"\\nProdutos Vendidos que NÃO Estão no Mix Ideal:\")\n",
        "display(produtos_nao_no_mix)\n",
        "\n",
        "#quantidade de cada produto vendido que não está no mix ideal\n",
        "contagem_nao_no_mix = produtos_nao_no_mix.groupby('nCdProduto').size().reset_index(name='Quantidade')\n",
        "print(\"\\nContagem dos Produtos Vendidos que NÃO Estão no Mix Ideal:\")\n",
        "display(contagem_nao_no_mix)\n",
        "\n",
        "#verificando se todos os produtos do Mix Ideal foram vendidos\n",
        "todosmixvendidos = pd.merge(notaVenda, mixIdeal, on='nCdProduto', how='right')\n",
        "produtos_no_mix_nao_vendidos = todosmixvendidos[todosmixvendidos['Fat Cxs'].isna()]\n",
        "print(\"\\nProdutos no Mix Ideal que NÃO Foram Vendidos:\")\n",
        "display(produtos_no_mix_nao_vendidos)\n",
        "\n",
        "#contando os produtos do mix ideal que não foram vendidos\n",
        "contagem_no_mix_nao_vendidos = produtos_no_mix_nao_vendidos.groupby('nCdProduto').size().reset_index(name='Quantidade Não Vendida')\n",
        "print(\"\\nContagem dos Produtos no Mix Ideal que NÃO Foram Vendidos:\")\n",
        "display(contagem_no_mix_nao_vendidos)\n"
      ]
    },
    {
      "cell_type": "code",
      "execution_count": null,
      "metadata": {
        "id": "tTTc8nQLYiaK"
      },
      "outputs": [],
      "source": [
        "# Contar o número de registros para cada 'nCdProduto'\n",
        "contagem_produtos = notaVenda.groupby('nCdProduto').size().reset_index(name='Contagem')\n",
        "# Ordenar pela quantidade de vendas em ordem decrescente\n",
        "produtos_mais_vendidos = contagem_produtos.sort_values(by='Contagem', ascending=False).head(5)\n",
        "#Renomeando as colunas\n",
        "produtos_mais_vendidos = produtos_mais_vendidos.rename(columns={'nCdProduto': 'Código do Produto', 'Contagem': 'Contagem de Vendas'})\n",
        "print(produtos_mais_vendidos.to_string(index=False))"
      ]
    },
    {
      "cell_type": "code",
      "execution_count": null,
      "metadata": {
        "id": "6Ec-k5LndViN"
      },
      "outputs": [],
      "source": [
        "# mesclando as tabelas de vendas e mix ideal com base no código do produto\n",
        "no = pd.merge(notaVenda, mixIdeal, on='nCdProduto', how='inner')\n",
        "\n",
        "# Agrupando por código do produto e somando o fatValor\n",
        "menos_vendidos = df_completo.groupby(['Marca', 'Produto'])['FatValor'].sum().reset_index()\n",
        "\n",
        "# Deixando em crescente\n",
        "menos_vendidos = menos_vendidos.sort_values(by='FatValor', ascending=True)\n",
        "\n",
        "print(\"\\nProdutos Menos Vendidos do Mix Ideal:\")\n",
        "display(menos_vendidos)"
      ]
    },
    {
      "cell_type": "markdown",
      "metadata": {
        "id": "MAo9JCHaTmme"
      },
      "source": [
        "#SCHEMA SQL"
      ]
    },
    {
      "cell_type": "code",
      "execution_count": null,
      "metadata": {
        "id": "YCoER16uiEnu"
      },
      "outputs": [],
      "source": [
        "!pip install mysql-connector-python\n",
        "import mysql.connector"
      ]
    },
    {
      "cell_type": "code",
      "execution_count": null,
      "metadata": {
        "id": "R6b-cqsEiHAb"
      },
      "outputs": [],
      "source": [
        "host = '104.198.179.63' # endereço do banco externo que eu quero acessar\n",
        "user = 'root'\n",
        "password = ''\n",
        "database = 'Flora'"
      ]
    },
    {
      "cell_type": "code",
      "execution_count": null,
      "metadata": {
        "id": "la9q17-ITpkj"
      },
      "outputs": [],
      "source": [
        "'''\n",
        "CREATE SCHEMA IF NOT EXISTS Flora;\n",
        "USE Flora;\n",
        "\n",
        "\n",
        "CREATE TABLE DimEmpresa (\n",
        "    nCdEmpresa INT PRIMARY KEY,\n",
        "    Empresa VARCHAR(255) NOT NULL\n",
        ");\n",
        "\n",
        "CREATE TABLE DimDivisaoComercial (\n",
        "    nCdDivisaoComercial INT PRIMARY KEY,\n",
        "    DivisaoComercial VARCHAR(255) NOT NULL\n",
        ");\n",
        "\n",
        "CREATE TABLE DimCoordenador (\n",
        "    nCdTerceiroCoordenador INT PRIMARY KEY,\n",
        "    cNmTerceiroCoordenador VARCHAR(255) NOT NULL\n",
        ");\n",
        "\n",
        "CREATE TABLE DimCliente (\n",
        "    nCdTerceiroCentralizador INT PRIMARY KEY,\n",
        "    TerceiroCentralizador VARCHAR(255) NOT NULL,\n",
        "    UF CHAR(2) NOT NULL\n",
        ");\n",
        "\n",
        "CREATE TABLE DimProduto (\n",
        "    nCdProduto INT PRIMARY KEY,\n",
        "    Marca VARCHAR(255),\n",
        "    Categoria VARCHAR(255),\n",
        "    Classificacao VARCHAR(255),\n",
        "    Tipo VARCHAR(255),\n",
        "    Produto VARCHAR(255) NOT NULL\n",
        ");\n",
        "\n",
        "CREATE TABLE MixIdeal (\n",
        "    nCdProduto INT PRIMARY KEY,\n",
        "    Marca VARCHAR(255),\n",
        "    Categoria VARCHAR(255),\n",
        "    Produto VARCHAR(255),\n",
        "    FOREIGN KEY (nCdProduto) REFERENCES DimProduto(nCdProduto)\n",
        ");\n",
        "\n",
        "CREATE TABLE FatoNotaVenda (\n",
        "    Negocio VARCHAR(15),\n",
        "    DataFaturamento DATE NOT NULL,\n",
        "    Mes TINYINT,\n",
        "    Ano INT,\n",
        "    nCdEmpresa INT,\n",
        "    nCdProduto INT,\n",
        "    nCdDivisaoComercial INT,\n",
        "    nCdTerceiroCoordenador INT,\n",
        "    nCdTerceiroCentralizador INT,\n",
        "    FatCxs FLOAT,\n",
        "    FatR$ FLOAT,\n",
        "    FOREIGN KEY (nCdEmpresa) REFERENCES DimEmpresa(nCdEmpresa),\n",
        "    FOREIGN KEY (nCdProduto) REFERENCES DimProduto(nCdProduto),\n",
        "    FOREIGN KEY (nCdDivisaoComercial) REFERENCES DimDivisaoComercial(nCdDivisaoComercial),\n",
        "    FOREIGN KEY (nCdTerceiroCoordenador) REFERENCES DimCoordenador(nCdTerceiroCoordenador),\n",
        "    FOREIGN KEY (nCdTerceiroCentralizador) REFERENCES DimCliente(nCdTerceiroCentralizador)\n",
        ");\n",
        "\n",
        "'''"
      ]
    },
    {
      "cell_type": "code",
      "execution_count": null,
      "metadata": {
        "id": "QBQgsPZeMir_"
      },
      "outputs": [],
      "source": [
        "#produtos que estão no mix ideal, mas que o cliente não comprou\n",
        "clientes_sem_mix_ideal_agrupados = notaVenda[~notaVenda['nCdProduto'].isin(mixIdeal['nCdProduto'])] \\\n",
        "    .groupby('nCdTerceiroCentralizador')['nCdProduto'].nunique().reset_index()\n",
        "\n",
        "#renomear a coluna de contagem\n",
        "clientes_sem_mix_ideal_agrupados.columns = ['nCdTerceiroCentralizador', 'produtos_nao_comprados_mix_ideal']\n",
        "\n",
        "#dataFrame de clientes que não compraram produtos do mix ideal\n",
        "clientes_sem_mix_ideal_df = clientes_sem_mix_ideal_agrupados.reset_index()\n",
        "\n",
        "#ordenar os clientes pela contagem de produtos não comprados do mix ideal\n",
        "clientes_sem_mix_ideal_df = clientes_sem_mix_ideal_df.sort_values(by='produtos_nao_comprados_mix_ideal', ascending=False)\n",
        "\n",
        "#merge para adicionar informações de coordenador, localidade e empresa\n",
        "clientes_com_coordenador = pd.merge(clientes_sem_mix_ideal_df,\n",
        "                                    notaVenda[['nCdTerceiroCentralizador', 'nCdTerceiroCoordenador', 'nCdDivisaoComercial', 'nCdEmpresa']].drop_duplicates(),\n",
        "                                    on='nCdTerceiroCentralizador', how='left')\n",
        "\n",
        "#merge com DimCoordenador para obter o nome do coordenador\n",
        "clientes_com_coordenador = pd.merge(clientes_com_coordenador,\n",
        "                                    coordenador[['nCdTerceiroCoordenador', 'cNmTerceiroCoordenador']],\n",
        "                                    on='nCdTerceiroCoordenador', how='left')\n",
        "\n",
        "#merge com divisaoComercial para obter o nome da divisão comercial\n",
        "clientes_com_coordenador = pd.merge(clientes_com_coordenador,\n",
        "                                    divisaoComercial[['nCdDivisaoComercial', 'DivisaoComercial']],\n",
        "                                    on='nCdDivisaoComercial', how='left')\n",
        "\n",
        "#merge com Empresa para adicionar o nome da empresa\n",
        "clientes_com_coordenador = pd.merge(clientes_com_coordenador,\n",
        "                                    empresa[['nCdEmpresa', 'Empresa']],\n",
        "                                    on='nCdEmpresa', how='left')\n",
        "\n",
        "#agrupar por empresa e somar a contagem de produtos não comprados\n",
        "produtos_nao_comprados_por_empresa = clientes_com_coordenador.groupby('Empresa')['produtos_nao_comprados_mix_ideal'].sum().reset_index()\n",
        "# exibir o DataFrame final com as informações detalhadas dos clientes\n",
        "display(clientes_com_coordenador[['nCdTerceiroCentralizador', 'produtos_nao_comprados_mix_ideal', 'cNmTerceiroCoordenador']])"
      ]
    },
    {
      "cell_type": "markdown",
      "metadata": {
        "id": "6E22xCPGhv_r"
      },
      "source": [
        "##Produtos que não estão no mix Ideal"
      ]
    },
    {
      "cell_type": "code",
      "execution_count": null,
      "metadata": {
        "id": "lo0jnQ0uR7yi"
      },
      "outputs": [],
      "source": [
        "#filtrar os produtos que NÃO estão no mix ideal (comprados fora do mix ideal)\n",
        "produtos_fora_mix = notaVenda[~notaVenda['nCdProduto'].isin(mixIdeal['nCdProduto'])]\n",
        "\n",
        "# contar quantos produtos fora do mix ideal cada cliente comprou\n",
        "clientes_com_produtos_fora_mix = produtos_fora_mix.groupby(['nCdTerceiroCentralizador', 'nCdTerceiroCoordenador'])['nCdProduto'].nunique().reset_index()\n",
        "\n",
        "# renomear a coluna para melhor compreensão\n",
        "clientes_com_produtos_fora_mix.columns = ['nCdTerceiroCentralizador', 'nCdTerceiroCoordenador', 'produtos_fora_mix']\n",
        "\n",
        "# merge com coordenador para obter o nome do coordenador\n",
        "clientes_com_coordenador = pd.merge(clientes_com_produtos_fora_mix,\n",
        "                                    coordenador[['nCdTerceiroCoordenador', 'cNmTerceiroCoordenador']],\n",
        "                                    on='nCdTerceiroCoordenador', how='left')\n",
        "\n",
        "# agrupar por coordenador e somar a quantidade de produtos comprados fora do mix\n",
        "produtos_fora_mix_por_coordenador = clientes_com_coordenador.groupby('cNmTerceiroCoordenador')['produtos_fora_mix'].sum().reset_index()\n",
        "\n",
        "# ordenar por número de produtos fora do mix (decrescente)\n",
        "produtos_fora_mix_por_coordenador = produtos_fora_mix_por_coordenador.sort_values(by='produtos_fora_mix', ascending=False)\n",
        "display(produtos_fora_mix_por_coordenador)"
      ]
    },
    {
      "cell_type": "markdown",
      "metadata": {
        "id": "xTMnZHtwizAN"
      },
      "source": [
        "# Sugestoes"
      ]
    },
    {
      "cell_type": "code",
      "execution_count": null,
      "metadata": {
        "id": "ajLnpknXcFvp"
      },
      "outputs": [],
      "source": [
        "display(vendas_coordenadores_mixIdeal['cobertura_mix'].mean())"
      ]
    },
    {
      "cell_type": "code",
      "execution_count": null,
      "metadata": {
        "id": "1BAcoYrSlVWo"
      },
      "outputs": [],
      "source": [
        "display(vendas_coordenadores_mixIdeal['cobertura_mix'].median())"
      ]
    },
    {
      "cell_type": "code",
      "execution_count": null,
      "metadata": {
        "id": "UYkXtEbWeCUx"
      },
      "outputs": [],
      "source": [
        "display(coordenadores_atendendo_mixIdeal['Faturamento_Total_coordenadores'].sum())"
      ]
    },
    {
      "cell_type": "code",
      "execution_count": null,
      "metadata": {
        "id": "LWjV-igCgKVz"
      },
      "outputs": [],
      "source": [
        "display(coordenadores_razao_vendasMix_totalVendas['vendas_produtos_no_mix'].sum())"
      ]
    },
    {
      "cell_type": "code",
      "execution_count": null,
      "metadata": {
        "id": "Og-aLRl_qx-k"
      },
      "outputs": [],
      "source": [
        "display(coordenadores_razao_vendasMix_totalVendas['vendas_produtos_no_mix'].mean())"
      ]
    }
  ],
  "metadata": {
    "colab": {
      "provenance": [],
      "include_colab_link": true
    },
    "kernelspec": {
      "display_name": "Python 3",
      "name": "python3"
    },
    "language_info": {
      "name": "python"
    }
  },
  "nbformat": 4,
  "nbformat_minor": 0
}